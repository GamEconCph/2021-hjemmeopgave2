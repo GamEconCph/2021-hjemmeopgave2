{
 "cells": [
  {
   "cell_type": "markdown",
   "metadata": {},
   "source": [
    "# eBay \n",
    "\n",
    "The dataset, `ebay_ho2.parquet`, contains rows, each corresponding to a sold item on eBay under the *Best Offer* platform. \n",
    "\n",
    "The data comes from https://www.nber.org/research/data/best-offer-sequential-bargaining, from the paper “Sequential Bargaining in the Field: Evidence from Millions of Online Interactions” by Backus, Blake, Larsen & Tadelis (2020) in the Quarterly Journal of Economics. "
   ]
  },
  {
   "cell_type": "code",
   "execution_count": null,
   "metadata": {},
   "outputs": [],
   "source": [
    "import pandas as pd \n",
    "import numpy as np \n",
    "import seaborn as sns \n",
    "import matplotlib.pyplot as plt \n",
    "from statsmodels.distributions.empirical_distribution import ECDF\n",
    "from scipy.optimize import minimize"
   ]
  },
  {
   "cell_type": "code",
   "execution_count": null,
   "metadata": {},
   "outputs": [],
   "source": [
    "dat = pd.read_parquet('ebay_ho2.parquet')"
   ]
  },
  {
   "cell_type": "code",
   "execution_count": null,
   "metadata": {},
   "outputs": [],
   "source": [
    "dat.shape"
   ]
  },
  {
   "cell_type": "markdown",
   "metadata": {},
   "source": [
    "Variable labels in human readable form"
   ]
  },
  {
   "cell_type": "code",
   "execution_count": null,
   "metadata": {},
   "outputs": [],
   "source": [
    "var_labels = {'anon_item_id': 'Anonymized listing ID',\n",
    "              'anon_leaf_categ_id': 'Anonymized leaf category ID, a finer categorization than meta categor',\n",
    "              'fdbk_pstv_start':'sellers percent feedback score at the time of the listin',\n",
    "              'start_price_usd': 'Buy-It-Now price', 'photo_count': 'Number of photos in listing', \n",
    "              'to_lst_cnt': 'Number of listings created by the seller dating back to 2008',\n",
    "              'bo_lst_cnt': 'Number of BO-listings created by the seller dating back to 2008',\n",
    "              'item_cndtn_id': 'Indicator for the new/used status of the item',\n",
    "              'view_item_count': 'Number of times the item page was viewed',\n",
    "              'wtchr_count': 'Number of users who selected the \"add to watch list\" option for this listing',              \n",
    "              'anon_product_id': 'Anonymized product ID, only available for items that can be linked to specific cataloged products', \n",
    "              'count1': 'Number of listings used in creating ref_price1 for this observation',\n",
    "              'ref_price1': 'Average price for sold fixed price listings with the same listing title as this item, sold during the time frame of the data',   \n",
    "              'item_price': 'Final price (Buy-It-Now price if the item sold through Buy-It-Now option, or the final negotiated price if the item sold through Best Offer. ',\n",
    "              'bo_ck_yn': 'Indicator for whether item sold through best offer.',\n",
    "              'decline_price': 'Price chosen by seller, if the seller chooses to report one, below which any offer will be automatically rejected', \n",
    "              'accept_price': 'Price chosen by seller, if the seller chooses to report one, above which any offer will be automatically accepted', \n",
    "              'bin_rev': 'Indicator for whether the Buy-It-Now price was ever modified by the seller during the time the item was listed', \n",
    "              'lstg_gen_type_id': 'Indicator for whether the item is a re-listing (i.e. an item that failed to sell before and was then re-listed by the seller)', \n",
    "              'store': 'Indicator for whether the listing is part of an eBay store',\n",
    "              'slr_us': 'Indicator for whether seller is located in US or not', \n",
    "              'buyer_us': 'Indicator for whether buyer is located in US or not', \n",
    "              'metacat': 'Product category (broad)', \n",
    "              'item_condition': 'Indicator for the new/used status of the item (categorical).', \n",
    "              'price2ref': 'Price relative to avg. among identical products (ref_price1)', \n",
    "              'price2start': 'Price relative to starting price (start_price_usd)'\n",
    "             }"
   ]
  },
  {
   "cell_type": "code",
   "execution_count": null,
   "metadata": {},
   "outputs": [],
   "source": [
    "for v in dat.columns: \n",
    "    print(f'{v:<20}: {var_labels[v]}')"
   ]
  },
  {
   "cell_type": "markdown",
   "metadata": {},
   "source": [
    "# Create variables"
   ]
  },
  {
   "cell_type": "code",
   "execution_count": null,
   "metadata": {},
   "outputs": [],
   "source": [
    "dat['price2ref']   = dat['item_price'] / dat['ref_price1']\n",
    "dat['price2start'] = dat['item_price'] / dat['start_price_usd']"
   ]
  },
  {
   "cell_type": "code",
   "execution_count": null,
   "metadata": {},
   "outputs": [],
   "source": [
    "price_vars = ['item_price', 'price2ref', 'price2start']"
   ]
  },
  {
   "cell_type": "code",
   "execution_count": null,
   "metadata": {},
   "outputs": [],
   "source": [
    "price_labs = {'price2ref':'Price rel. to avg. for product', 'price2start':'Price rel. to starting price', \n",
    "              'item_price':'Price (USD)'}"
   ]
  },
  {
   "cell_type": "markdown",
   "metadata": {},
   "source": [
    "# A few descriptives, just for curiosity"
   ]
  },
  {
   "cell_type": "markdown",
   "metadata": {},
   "source": [
    "## Number of sales per category"
   ]
  },
  {
   "cell_type": "code",
   "execution_count": null,
   "metadata": {},
   "outputs": [],
   "source": [
    "ax=dat.metacat.value_counts().plot(kind='bar'); \n",
    "ax.set_ylabel('Number of product listings'); "
   ]
  },
  {
   "cell_type": "markdown",
   "metadata": {},
   "source": [
    "## Price distributions"
   ]
  },
  {
   "cell_type": "code",
   "execution_count": null,
   "metadata": {},
   "outputs": [],
   "source": [
    "I = dat.item_price <= 500 # just to remove a few outliers \n",
    "ax = dat.loc[I].item_price.hist(bins=100,edgecolor='white'); \n",
    "ax.set_xlabel(price_labs['item_price']); "
   ]
  },
  {
   "cell_type": "code",
   "execution_count": null,
   "metadata": {},
   "outputs": [],
   "source": [
    "I = (dat.price2ref <= 2.0) & (dat.count1 >= 10) # if count1<10, then the reference price gets very noisy\n",
    "ax = dat.loc[I].price2ref.hist(bins=100,edgecolor='white'); \n",
    "ax.set_xlabel(price_labs['price2ref']); "
   ]
  },
  {
   "cell_type": "code",
   "execution_count": null,
   "metadata": {},
   "outputs": [],
   "source": [
    "I = (dat.price2start <= 1.05) \n",
    "ax = dat.loc[I].price2start.hist(bins=100,edgecolor='white'); \n",
    "ax.set_xlabel(price_labs['price2start']); "
   ]
  },
  {
   "cell_type": "markdown",
   "metadata": {},
   "source": [
    "# Compare prices for two specific categories"
   ]
  },
  {
   "cell_type": "code",
   "execution_count": null,
   "metadata": {},
   "outputs": [],
   "source": [
    "cats = ['Antiques',  'Cell Phones & Accessories']\n",
    "\n",
    "fig,ax = plt.subplots(); \n",
    "for cat in cats: \n",
    "    I = (dat['price2start'] < 1.05) & (dat.metacat == cat)\n",
    "    ax.hist(dat.loc[I, 'price2start'], bins=20, label=cat, alpha=0.6, density=True, edgecolor='white')\n",
    "\n",
    "ax.legend(loc='best'); ax.set_xlabel(price_labs['price2start']); sns.despine();     "
   ]
  },
  {
   "cell_type": "markdown",
   "metadata": {},
   "source": [
    "# Uniform valuations\n",
    "\n",
    "If the underlying distribution is uniformly random, then we know that the order statistics are beta-distributed. More precisely, \n",
    "$$ X_{(k)} \\sim \\mathcal{B}(k, n+1-k),$$ \n",
    "and specifically for the 2nd order statistic, \n",
    "$$ X_{(n-1)} \\sim \\mathcal{B}(n-1, 2). $$\n",
    "\n",
    "This also means that the expected value is \n",
    "$$ \\mathbb{E}(X_{(k)}) =  \\frac{k}{n+1}. $$"
   ]
  },
  {
   "cell_type": "code",
   "execution_count": null,
   "metadata": {},
   "outputs": [],
   "source": [
    "d = dat.groupby('metacat')[['price2start', 'view_item_count']].mean()\n",
    "d"
   ]
  },
  {
   "cell_type": "markdown",
   "metadata": {},
   "source": [
    "... continue on your own from here... write a function that takes `d.view_item_count` as an input and returns a predicted price. The data price that this should be compared to is `d.price2start`. "
   ]
  },
  {
   "cell_type": "markdown",
   "metadata": {},
   "source": [
    "# Part B\n",
    "\n",
    "Now, we instead focus on the price variable, `price2ref`. "
   ]
  },
  {
   "cell_type": "markdown",
   "metadata": {},
   "source": [
    "## Subset the dataset"
   ]
  },
  {
   "cell_type": "code",
   "execution_count": null,
   "metadata": {},
   "outputs": [],
   "source": [
    "I = (dat.metacat == 'Cell Phones & Accessories') & (dat.price2ref < 2.0) & (dat.count1 >= 10)\n",
    "d = dat[I].copy() # to avoid having a pointer "
   ]
  },
  {
   "cell_type": "code",
   "execution_count": null,
   "metadata": {},
   "outputs": [],
   "source": [
    "price_var = 'price2ref'"
   ]
  },
  {
   "cell_type": "markdown",
   "metadata": {},
   "source": [
    "Showing the overall distribution of that price"
   ]
  },
  {
   "cell_type": "code",
   "execution_count": null,
   "metadata": {},
   "outputs": [],
   "source": [
    "d[price_var].hist(bins=100); \n",
    "plt.xlabel('Price relative to reference'); "
   ]
  },
  {
   "cell_type": "code",
   "execution_count": null,
   "metadata": {},
   "outputs": [],
   "source": [
    "n = 10\n",
    "R = 100000\n",
    "\n",
    "# chi square distributed valuations\n",
    "v = np.random.chisquare(1, size=(n,R))\n",
    "# next, find the winning price for each column, r=1,...,R\n",
    "# save an R-vector with the winning payments\n",
    "# ... \n",
    "win_chi2 = XXX # fill in \n",
    "\n",
    "# log normal draws\n",
    "w = np.exp(np.random.normal(-0.5, 0.5, size=(n,R)))\n",
    "# ... and do the same here \n",
    "# ... \n",
    "win_lognorm = XXX # fill in "
   ]
  },
  {
   "cell_type": "code",
   "execution_count": null,
   "metadata": {},
   "outputs": [],
   "source": [
    "# if you called the variables \"win_chi2\" and \"win_lognorm\", \n",
    "# then this code creates a graph with the histograms together \n",
    "fig,ax = plt.subplots(); \n",
    "ax.hist(win_chi2,       alpha=0.5, density=True, bins=100, label='chi2');      # winning bids with chi squared distributed valuations\n",
    "ax.hist(win_lognorm,    alpha=0.5, density=True, bins=100, label='lognormal'); # ... with log normals \n",
    "ax.hist(d['price2ref'], alpha=0.5, density=True, bins=100, label='Observed');  # the data we want to compare to \n",
    "ax.legend(loc='best'); sns.despine(); "
   ]
  },
  {
   "cell_type": "markdown",
   "metadata": {},
   "source": [
    "## Question B.2"
   ]
  },
  {
   "cell_type": "code",
   "execution_count": null,
   "metadata": {},
   "outputs": [],
   "source": [
    "# 1. set up the grid on which we will be evaluating the ECDF functions\n",
    "plow = 0.0\n",
    "phigh = 2.0\n",
    "xx = np.linspace(plow, phigh, 50)\n",
    "\n",
    "# 2. construct the empirical CDF function handles\n",
    "ecdf_dat = ECDF(d['price2ref'])\n",
    "ecdf_sim = ECDF(win_lognorm) # the variable from question B.1\n",
    "\n",
    "# 3. show a plot together \n",
    "plt.plot(xx, ecdf_dat(xx), '-o', xx, ecdf_sim(xx), '-x'); \n",
    "plt.legend(['Data', 'Simulation']); "
   ]
  },
  {
   "cell_type": "markdown",
   "metadata": {},
   "source": [
    "Some scaffolding code to help you get started with the criterion function. "
   ]
  },
  {
   "cell_type": "code",
   "execution_count": null,
   "metadata": {},
   "outputs": [],
   "source": [
    "def crit(mu, sig): \n",
    "    np.random.seed(1337) # always set the seed before drawing\n",
    "    w = np.random.lognormal(mu, sig, size=(n,R))\n",
    "    # ... \n",
    "    w2nd = XXX # fill in the code that computes the payment by the winner based on the simulated draws, w\n",
    "    \n",
    "    # this code snippet shows how to subtract two ECDF functions on a common grid\n",
    "    ecdf_sim = ECDF(w2nd)\n",
    "    diff = ecdf_dat(xx) - ecdf_sim(xx)\n",
    "    mean_squared_residuals = XXX # fill in here \n",
    "\n",
    "    return mean_squared_residuals"
   ]
  },
  {
   "cell_type": "code",
   "execution_count": null,
   "metadata": {},
   "outputs": [],
   "source": [
    "# here is how we call the criterion function\n",
    "crit(mu=-.5, sig=.5)"
   ]
  },
  {
   "cell_type": "code",
   "execution_count": null,
   "metadata": {},
   "outputs": [],
   "source": [
    "# 1. set up anonymous criterion function in a form that minimize() accepts\n",
    "crit_ = lambda x : crit(x, sig=0.5)\n",
    "\n",
    "# 2. test that it works\n",
    "crit_(x0)\n",
    "\n",
    "# 3. call minimizer \n",
    "res = minimize(crit_, x0, method='Nelder-Mead')\n",
    "res"
   ]
  }
 ],
 "metadata": {
  "kernelspec": {
   "display_name": "Python 3",
   "language": "python",
   "name": "python3"
  },
  "language_info": {
   "codemirror_mode": {
    "name": "ipython",
    "version": 3
   },
   "file_extension": ".py",
   "mimetype": "text/x-python",
   "name": "python",
   "nbconvert_exporter": "python",
   "pygments_lexer": "ipython3",
   "version": "3.8.2"
  }
 },
 "nbformat": 4,
 "nbformat_minor": 4
}
